{
 "cells": [
  {
   "cell_type": "markdown",
   "id": "dab33a49",
   "metadata": {},
   "source": [
    "# Import"
   ]
  },
  {
   "cell_type": "code",
   "execution_count": 31,
   "id": "5c97dc2a",
   "metadata": {},
   "outputs": [],
   "source": [
    "import requests\n",
    "import sqlite3\n",
    "import pandas as pd\n",
    "import os\n",
    "import json\n",
    "import requests\n",
    "import secrets\n",
    "import matplotlib as mpl\n",
    "import matplotlib.pyplot as plt\n",
    "from mal import Anime"
   ]
  },
  {
   "cell_type": "markdown",
   "id": "a7ccc4af",
   "metadata": {},
   "source": [
    "# API Authentication"
   ]
  },
  {
   "cell_type": "markdown",
   "id": "0c42275d",
   "metadata": {
    "heading_collapsed": true
   },
   "source": [
    "## Helper"
   ]
  },
  {
   "cell_type": "code",
   "execution_count": 15,
   "id": "42f30104",
   "metadata": {
    "hidden": true
   },
   "outputs": [
    {
     "name": "stdout",
     "output_type": "stream",
     "text": [
      "Authorise your application by clicking here: https://myanimelist.net/v1/oauth2/authorize?response_type=code&client_id=234ccc92400a65d36ada11e16ddced3e&code_challenge=EPxSJ1VgMn0AUZFhUGLaEUf-zHbqUcVfiwpuKeOHjQZV--wEm30ZFr3paUYAmVoZxJivLr500XNL31MwL0opYo7D8lh5Hd30Hkt4EUe5CF8Bznvs1GvoICTtNCXQ81Sw\n",
      "\n"
     ]
    },
    {
     "ename": "KeyboardInterrupt",
     "evalue": "Interrupted by user",
     "output_type": "error",
     "traceback": [
      "\u001b[0;31m---------------------------------------------------------------------------\u001b[0m",
      "\u001b[0;31mKeyboardInterrupt\u001b[0m                         Traceback (most recent call last)",
      "\u001b[0;32m/var/folders/h9/2b15fkd541n1sdcctxt8kr280000gn/T/ipykernel_69365/1574236018.py\u001b[0m in \u001b[0;36m<module>\u001b[0;34m\u001b[0m\n\u001b[1;32m     63\u001b[0m     \u001b[0mprint_new_authorisation_url\u001b[0m\u001b[0;34m(\u001b[0m\u001b[0mcode_challenge\u001b[0m\u001b[0;34m)\u001b[0m\u001b[0;34m\u001b[0m\u001b[0;34m\u001b[0m\u001b[0m\n\u001b[1;32m     64\u001b[0m \u001b[0;34m\u001b[0m\u001b[0m\n\u001b[0;32m---> 65\u001b[0;31m     \u001b[0mauthorisation_code\u001b[0m \u001b[0;34m=\u001b[0m \u001b[0minput\u001b[0m\u001b[0;34m(\u001b[0m\u001b[0;34m'Copy-paste the Authorisation Code: '\u001b[0m\u001b[0;34m)\u001b[0m\u001b[0;34m.\u001b[0m\u001b[0mstrip\u001b[0m\u001b[0;34m(\u001b[0m\u001b[0;34m)\u001b[0m\u001b[0;34m\u001b[0m\u001b[0;34m\u001b[0m\u001b[0m\n\u001b[0m\u001b[1;32m     66\u001b[0m     \u001b[0mtoken\u001b[0m \u001b[0;34m=\u001b[0m \u001b[0mgenerate_new_token\u001b[0m\u001b[0;34m(\u001b[0m\u001b[0mauthorisation_code\u001b[0m\u001b[0;34m,\u001b[0m \u001b[0mcode_verifier\u001b[0m\u001b[0;34m)\u001b[0m\u001b[0;34m\u001b[0m\u001b[0;34m\u001b[0m\u001b[0m\n\u001b[1;32m     67\u001b[0m \u001b[0;34m\u001b[0m\u001b[0m\n",
      "\u001b[0;32m/usr/local/opt/pyenv/versions/3.7.4/envs/cs1951a/lib/python3.7/site-packages/ipykernel/kernelbase.py\u001b[0m in \u001b[0;36mraw_input\u001b[0;34m(self, prompt)\u001b[0m\n\u001b[1;32m   1077\u001b[0m             \u001b[0mself\u001b[0m\u001b[0;34m.\u001b[0m\u001b[0m_parent_ident\u001b[0m\u001b[0;34m[\u001b[0m\u001b[0;34m\"shell\"\u001b[0m\u001b[0;34m]\u001b[0m\u001b[0;34m,\u001b[0m\u001b[0;34m\u001b[0m\u001b[0;34m\u001b[0m\u001b[0m\n\u001b[1;32m   1078\u001b[0m             \u001b[0mself\u001b[0m\u001b[0;34m.\u001b[0m\u001b[0mget_parent\u001b[0m\u001b[0;34m(\u001b[0m\u001b[0;34m\"shell\"\u001b[0m\u001b[0;34m)\u001b[0m\u001b[0;34m,\u001b[0m\u001b[0;34m\u001b[0m\u001b[0;34m\u001b[0m\u001b[0m\n\u001b[0;32m-> 1079\u001b[0;31m             \u001b[0mpassword\u001b[0m\u001b[0;34m=\u001b[0m\u001b[0;32mFalse\u001b[0m\u001b[0;34m,\u001b[0m\u001b[0;34m\u001b[0m\u001b[0;34m\u001b[0m\u001b[0m\n\u001b[0m\u001b[1;32m   1080\u001b[0m         )\n\u001b[1;32m   1081\u001b[0m \u001b[0;34m\u001b[0m\u001b[0m\n",
      "\u001b[0;32m/usr/local/opt/pyenv/versions/3.7.4/envs/cs1951a/lib/python3.7/site-packages/ipykernel/kernelbase.py\u001b[0m in \u001b[0;36m_input_request\u001b[0;34m(self, prompt, ident, parent, password)\u001b[0m\n\u001b[1;32m   1118\u001b[0m             \u001b[0;32mexcept\u001b[0m \u001b[0mKeyboardInterrupt\u001b[0m\u001b[0;34m:\u001b[0m\u001b[0;34m\u001b[0m\u001b[0;34m\u001b[0m\u001b[0m\n\u001b[1;32m   1119\u001b[0m                 \u001b[0;31m# re-raise KeyboardInterrupt, to truncate traceback\u001b[0m\u001b[0;34m\u001b[0m\u001b[0;34m\u001b[0m\u001b[0;34m\u001b[0m\u001b[0m\n\u001b[0;32m-> 1120\u001b[0;31m                 \u001b[0;32mraise\u001b[0m \u001b[0mKeyboardInterrupt\u001b[0m\u001b[0;34m(\u001b[0m\u001b[0;34m\"Interrupted by user\"\u001b[0m\u001b[0;34m)\u001b[0m \u001b[0;32mfrom\u001b[0m \u001b[0;32mNone\u001b[0m\u001b[0;34m\u001b[0m\u001b[0;34m\u001b[0m\u001b[0m\n\u001b[0m\u001b[1;32m   1121\u001b[0m             \u001b[0;32mexcept\u001b[0m \u001b[0mException\u001b[0m\u001b[0;34m:\u001b[0m\u001b[0;34m\u001b[0m\u001b[0;34m\u001b[0m\u001b[0m\n\u001b[1;32m   1122\u001b[0m                 \u001b[0mself\u001b[0m\u001b[0;34m.\u001b[0m\u001b[0mlog\u001b[0m\u001b[0;34m.\u001b[0m\u001b[0mwarning\u001b[0m\u001b[0;34m(\u001b[0m\u001b[0;34m\"Invalid Message:\"\u001b[0m\u001b[0;34m,\u001b[0m \u001b[0mexc_info\u001b[0m\u001b[0;34m=\u001b[0m\u001b[0;32mTrue\u001b[0m\u001b[0;34m)\u001b[0m\u001b[0;34m\u001b[0m\u001b[0;34m\u001b[0m\u001b[0m\n",
      "\u001b[0;31mKeyboardInterrupt\u001b[0m: Interrupted by user"
     ]
    }
   ],
   "source": [
    "CLIENT_ID = '234ccc92400a65d36ada11e16ddced3e'\n",
    "\n",
    "\n",
    "# 1. Generate a new Code Verifier / Code Challenge.\n",
    "def get_new_code_verifier() -> str:\n",
    "    token = secrets.token_urlsafe(100)\n",
    "    return token[:128]\n",
    "\n",
    "\n",
    "# 2. Print the URL needed to authorise your application.\n",
    "def print_new_authorisation_url(code_challenge: str):\n",
    "    global CLIENT_ID\n",
    "\n",
    "    url = f'https://myanimelist.net/v1/oauth2/authorize?response_type=code&client_id={CLIENT_ID}&code_challenge={code_challenge}'\n",
    "    print(f'Authorise your application by clicking here: {url}\\n')\n",
    "\n",
    "\n",
    "# 3. Once you've authorised your application, you will be redirected to the webpage you've\n",
    "#    specified in the API panel. The URL will contain a parameter named \"code\" (the Authorisation\n",
    "#    Code). You need to feed that code to the application.\n",
    "def generate_new_token(authorisation_code: str, code_verifier: str) -> dict:\n",
    "    global CLIENT_ID\n",
    "\n",
    "    url = 'https://myanimelist.net/v1/oauth2/token'\n",
    "    data = {\n",
    "        'client_id': CLIENT_ID,\n",
    "        'code': authorisation_code,\n",
    "        'code_verifier': code_verifier,\n",
    "        'grant_type': 'authorization_code'\n",
    "    }\n",
    "\n",
    "    response = requests.post(url, data)\n",
    "    response.raise_for_status()  # Check whether the requests contains errors\n",
    "\n",
    "    token = response.json()\n",
    "    response.close()\n",
    "    print('Token generated successfully!')\n",
    "\n",
    "    with open('token.json', 'w') as file:\n",
    "        json.dump(token, file, indent = 4)\n",
    "        print('Token saved in \"token.json\"')\n",
    "\n",
    "    return token\n",
    "\n",
    "\n",
    "def generate_refresh_token(authorisation_code: str, code_verifier: str) -> dict:\n",
    "    global CLIENT_ID\n",
    "\n",
    "    url = 'https://myanimelist.net/v1/oauth2/token'\n",
    "    data = {\n",
    "        'client_id': CLIENT_ID,\n",
    "        'code': authorisation_code,\n",
    "        'code_verifier': token,\n",
    "        'grant_type': 'authorization_code'\n",
    "    }\n",
    "\n",
    "    response = requests.post(url, data)\n",
    "    response.raise_for_status()  # Check whether the requests contains errors\n",
    "\n",
    "    token = response.json()\n",
    "    response.close()\n",
    "    print('Token generated successfully!')\n",
    "\n",
    "    with open('token.json', 'w') as file:\n",
    "        json.dump(token, file, indent = 4)\n",
    "        print('Token saved in \"token.json\"')\n",
    "\n",
    "    return token\n",
    "\n",
    "\n",
    "# 4. Test the API by requesting your profile information\n",
    "def print_user_info(access_token: str):\n",
    "    url = 'https://api.myanimelist.net/v2/users/@me'\n",
    "    response = requests.get(url, headers = {\n",
    "        'Authorization': f'Bearer {access_token}'\n",
    "        })\n",
    "    \n",
    "    response.raise_for_status()\n",
    "    user = response.json()\n",
    "    response.close()\n",
    "\n",
    "    print(f\"\\n>>> Greetings {user['name']}! <<<\")"
   ]
  },
  {
   "cell_type": "markdown",
   "id": "6338ce94",
   "metadata": {
    "heading_collapsed": true
   },
   "source": [
    "## Generate Token"
   ]
  },
  {
   "cell_type": "code",
   "execution_count": null,
   "id": "204b67f8",
   "metadata": {
    "hidden": true
   },
   "outputs": [],
   "source": [
    "code_verifier = code_challenge = get_new_code_verifier()\n",
    "print_new_authorisation_url(code_challenge)\n",
    "\n",
    "authorisation_code = input('Copy-paste the Authorisation Code: ').strip()\n",
    "token = generate_new_token(authorisation_code, code_verifier)\n",
    "\n",
    "print_user_info(token['access_token'])"
   ]
  },
  {
   "cell_type": "markdown",
   "id": "71059cf1",
   "metadata": {},
   "source": [
    "## Load Token"
   ]
  },
  {
   "cell_type": "code",
   "execution_count": 23,
   "id": "ded17199",
   "metadata": {},
   "outputs": [],
   "source": [
    "with open('token.json') as f:\n",
    "    token = json.load(f)"
   ]
  },
  {
   "cell_type": "markdown",
   "id": "26f54cdd",
   "metadata": {},
   "source": [
    "# Try accessing data"
   ]
  },
  {
   "cell_type": "code",
   "execution_count": 29,
   "id": "4137385b",
   "metadata": {},
   "outputs": [
    {
     "name": "stdout",
     "output_type": "stream",
     "text": [
      "status: 200\n",
      "rank table\n",
      "      id  rank                                        title\n",
      "0   5114     1             Fullmetal Alchemist: Brotherhood\n",
      "1  48583     2  Shingeki no Kyojin: The Final Season Part 2\n",
      "2   9253     3                                  Steins;Gate\n",
      "3  28977     4                                     Gintama°\n",
      "4  38524     5           Shingeki no Kyojin Season 3 Part 2\n",
      "anime table\n",
      "        id                                        title  \\\n",
      "0   5114.0             Fullmetal Alchemist: Brotherhood   \n",
      "1  48583.0  Shingeki no Kyojin: The Final Season Part 2   \n",
      "2   9253.0                                  Steins;Gate   \n",
      "3  28977.0                                     Gintama°   \n",
      "4  38524.0           Shingeki no Kyojin Season 3 Part 2   \n",
      "\n",
      "                                              genres  mean   nsfw  popularity  \\\n",
      "0  [Action, Adventure, Comedy, Drama, Fantasy, Mi...  9.15  white         3.0   \n",
      "1  [Action, Drama, Fantasy, Military, Mystery, Sh...  9.15  white       220.0   \n",
      "2           [Drama, Psychological, Sci-Fi, Suspense]  9.09  white        13.0   \n",
      "3  [Action, Comedy, Historical, Parody, Samurai, ...  9.09  white       335.0   \n",
      "4  [Action, Drama, Fantasy, Military, Mystery, Sh...  9.08  white        32.0   \n",
      "\n",
      "             status  num_list_users  \\\n",
      "0   finished_airing       2790636.0   \n",
      "1  currently_airing        684826.0   \n",
      "2   finished_airing       2168627.0   \n",
      "3   finished_airing        508938.0   \n",
      "4   finished_airing       1722733.0   \n",
      "\n",
      "                                      related_anime rating media_type  \\\n",
      "0                           [121, 6421, 7902, 9135]      r         tv   \n",
      "1                                           [40028]      r         tv   \n",
      "2  [4975, 10863, 13599, 27957, 30485, 32188, 32962]  pg_13         tv   \n",
      "3               [15335, 15417, 32122, 32366, 34096]  pg_13         tv   \n",
      "4                             [35760, 40028, 42091]      r         tv   \n",
      "\n",
      "                                            synopsis watching completed  \\\n",
      "0  After a horrific alchemy experiment goes wrong...   213394   2026152   \n",
      "1  Turning against his former allies and enemies ...   419316       386   \n",
      "2  The self-proclaimed mad scientist Rintarou Oka...   140305   1365174   \n",
      "3  Gintoki, Shinpachi, and Kagura return as the f...    57013    211770   \n",
      "4  Seeking to restore humanity's diminishing hope...    67040   1534174   \n",
      "\n",
      "  onhold dropped plan_to_watch  \n",
      "0  95212   43154        415712  \n",
      "1   3794    1611        260080  \n",
      "2  76131   44871        543832  \n",
      "3  20295   14204        208234  \n",
      "4   7366    4692        119045  \n"
     ]
    }
   ],
   "source": [
    "N = 100\n",
    "TOP_ANIME_API = 'https://api.myanimelist.net/v2/anime/ranking?ranking_type=all&limit={:d}'.format(N)\n",
    "\n",
    "columns = ['id', 'title', 'genres', 'mean', 'nsfw', 'popularity', \n",
    "           'status', 'num_list_users', 'related_anime','rating', \n",
    "           'media_type', 'synopsis', 'statistics']\n",
    "get_anime = lambda id_: f'https://api.myanimelist.net/v2/anime/{id_}?fields={\",\".join(columns)}'\n",
    "\n",
    "\n",
    "access_token = token['access_token']\n",
    "r = requests.get(TOP_ANIME_API, headers = {\n",
    "        'Authorization': f'Bearer {access_token}'})\n",
    "\n",
    "print('status:', r.status_code)\n",
    "data_json = r.json()['data']\n",
    "# print(data_json)\n",
    "\n",
    "\n",
    "ids = []\n",
    "ranks = []\n",
    "titles = []\n",
    "\n",
    "for anime in data_json:\n",
    "    anime_id = anime['node']['id']; \n",
    "    rank = anime['ranking']['rank'];\n",
    "    title = anime['node']['title'];\n",
    "    ids.append(anime_id)\n",
    "    ranks.append(rank)\n",
    "    titles.append(title.strip())\n",
    "         \n",
    "    \n",
    "rank_df = pd.DataFrame({'id': ids, 'rank':ranks, 'title':titles})\n",
    "print('rank table')\n",
    "print(rank_df.head())\n",
    "\n",
    "\n",
    "anime_df = pd.DataFrame()\n",
    "for id_ in ids:\n",
    "    r = requests.get(get_anime(id_), headers = {\n",
    "        'Authorization': f'Bearer {access_token}'})\n",
    "    if r.status_code == 200:\n",
    "        anime_df = anime_df.append(r.json(), ignore_index = True)\n",
    "    else:\n",
    "        print('id:', id_, ' not found')\n",
    "anime_df = anime_df[columns]\n",
    "\n",
    "anime_df['genres'] = anime_df['genres'].map(lambda ls: [l['name'] for l in ls])\n",
    "\n",
    "anime_df['related_anime'] = anime_df['related_anime'].map(lambda ls: [l['node']['id'] for l in ls])\n",
    "anime_df['watching'] = anime_df['statistics'].map(lambda x: x['status']['watching'])\n",
    "anime_df['completed'] = anime_df['statistics'].map(lambda x: x['status']['completed'])\n",
    "anime_df['onhold'] = anime_df['statistics'].map(lambda x: x['status']['on_hold'])\n",
    "anime_df['dropped'] = anime_df['statistics'].map(lambda x: x['status']['dropped'])\n",
    "anime_df['plan_to_watch'] = anime_df['statistics'].map(lambda x: x['status']['plan_to_watch'])\n",
    "anime_df = anime_df.drop('statistics', axis = 1)\n",
    "\n",
    "print('anime table')\n",
    "print(anime_df.head())"
   ]
  },
  {
   "cell_type": "code",
   "execution_count": 38,
   "id": "762f2e21",
   "metadata": {},
   "outputs": [
    {
     "data": {
      "text/plain": [
       "(array([  0.,   0.,   0.,   0.,   0., 100.,   0.,   0.,   0.,   0.]),\n",
       " array([-0.5, -0.4, -0.3, -0.2, -0.1,  0. ,  0.1,  0.2,  0.3,  0.4,  0.5]),\n",
       " <a list of 10 Patch objects>)"
      ]
     },
     "execution_count": 38,
     "metadata": {},
     "output_type": "execute_result"
    },
    {
     "data": {
      "image/png": "[encoded data removed]",
      "text/plain": [
       "<Figure size 432x288 with 1 Axes>"
      ]
     },
     "metadata": {
      "needs_background": "light"
     },
     "output_type": "display_data"
    }
   ],
   "source": []
  },
  {
   "cell_type": "code",
   "execution_count": null,
   "id": "42717a94",
   "metadata": {},
   "outputs": [],
   "source": []
  }
 ],
 "metadata": {
  "kernelspec": {
   "display_name": "cs1951A",
   "language": "python",
   "name": "cs1951a"
  },
  "language_info": {
   "codemirror_mode": {
    "name": "ipython",
    "version": 3
   },
   "file_extension": ".py",
   "mimetype": "text/x-python",
   "name": "python",
   "nbconvert_exporter": "python",
   "pygments_lexer": "ipython3",
   "version": "3.7.4"
  },
  "toc": {
   "base_numbering": 1,
   "nav_menu": {},
   "number_sections": true,
   "sideBar": true,
   "skip_h1_title": false,
   "title_cell": "Table of Contents",
   "title_sidebar": "Contents",
   "toc_cell": false,
   "toc_position": {},
   "toc_section_display": true,
   "toc_window_display": true
  }
 },
 "nbformat": 4,
 "nbformat_minor": 5
}
