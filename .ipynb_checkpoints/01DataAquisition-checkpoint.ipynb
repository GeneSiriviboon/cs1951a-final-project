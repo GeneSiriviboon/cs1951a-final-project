{
 "cells": [
  {
   "cell_type": "markdown",
   "id": "2febf388",
   "metadata": {},
   "source": [
    "# Import"
   ]
  },
  {
   "cell_type": "code",
   "execution_count": 14,
   "id": "6dd3dd15",
   "metadata": {},
   "outputs": [],
   "source": [
    "from bs4 import BeautifulSoup\n",
    "import requests\n",
    "import sqlite3\n",
    "import pandas as pd\n",
    "import os\n",
    "import json\n",
    "import requests\n",
    "from mal import Anime"
   ]
  },
  {
   "cell_type": "markdown",
   "id": "d736043b",
   "metadata": {},
   "source": [
    "# API Links"
   ]
  },
  {
   "cell_type": "code",
   "execution_count": 31,
   "id": "3824a619",
   "metadata": {},
   "outputs": [
    {
     "name": "stdout",
     "output_type": "stream",
     "text": [
      "title: Cowboy Bebop\n",
      "genre: ['Action', 'Adventure', 'Comedy', 'Drama', 'Sci-Fi']\n",
      "popularity: 42\n",
      "score: 8.76\n",
      "score_by: 761028\n",
      "rating: R - 17+ (violence & profanity)\n",
      "synopsis: In the year 2071, humanity has colonized several of the planets and moons of the solar system leaving the now uninhabitable surface of planet Earth behind. The Inter Solar System Police attempts to keep peace in the galaxy, aided in part by outlaw bounty hunters, referred to as \"Cowboys.\" The ragtag team aboard the spaceship Bebop are two such individuals.  Mellow and carefree Spike Spiegel is balanced by his boisterous, pragmatic partner Jet Black as the pair makes a living chasing bounties and collecting rewards. Thrown off course by the addition of new members that they meet in their travels—Ein, a genetically engineered, highly intelligent Welsh Corgi; femme fatale Faye Valentine, an enigmatic trickster with memory loss; and the strange computer whiz kid Edward Wong—the crew embarks on thrilling adventures that unravel each member's dark and mysterious past little by little.  Well-balanced with high density action and light-hearted comedy, Cowboy Bebop is a space Western classic and an homage to the smooth and improvised music it is named after.  [Written by MAL Rewrite]\n",
      "themes: ['Space']\n",
      "related_anime: {'Adaptation': ['Cowboy Bebop', 'Shooting Star Bebop: Cowboy Bebop'], 'Side story': ['Cowboy Bebop: Tengoku no Tobira', 'Cowboy Bebop: Ein no Natsuyasumi'], 'Summary': ['Cowboy Bebop: Yose Atsume Blues']}\n",
      "studio: ['Sunrise']\n"
     ]
    }
   ],
   "source": [
    "a = Anime(1)\n",
    "\n",
    "print('title:', a.title)\n",
    "print('genre:', a.genres)\n",
    "print('popularity:', a.popularity)\n",
    "print('score:', a.score)\n",
    "print('score_by:', a.scored_by)\n",
    "print('rating:', a.rating)\n",
    "print('synopsis:', a.synopsis)\n",
    "print('themes:', a.themes)\n",
    "print('related_anime:', a.related_anime)\n",
    "print('studio:', a.studios)\n"
   ]
  },
  {
   "cell_type": "markdown",
   "id": "1b28aa8b",
   "metadata": {},
   "source": [
    "# Generate code verifier"
   ]
  },
  {
   "cell_type": "code",
   "execution_count": 3,
   "id": "e02ef5ea",
   "metadata": {},
   "outputs": [
    {
     "data": {
      "text/plain": [
       "<Response [403]>"
      ]
     },
     "execution_count": 3,
     "metadata": {},
     "output_type": "execute_result"
    }
   ],
   "source": [
    "r = requests.get(MAL_URL)\n",
    "r"
   ]
  },
  {
   "cell_type": "code",
   "execution_count": null,
   "id": "ca5bd414",
   "metadata": {},
   "outputs": [],
   "source": []
  }
 ],
 "metadata": {
  "kernelspec": {
   "display_name": "cs1951A",
   "language": "python",
   "name": "cs1951a"
  },
  "language_info": {
   "codemirror_mode": {
    "name": "ipython",
    "version": 3
   },
   "file_extension": ".py",
   "mimetype": "text/x-python",
   "name": "python",
   "nbconvert_exporter": "python",
   "pygments_lexer": "ipython3",
   "version": "3.7.4"
  },
  "toc": {
   "base_numbering": 1,
   "nav_menu": {},
   "number_sections": true,
   "sideBar": true,
   "skip_h1_title": false,
   "title_cell": "Table of Contents",
   "title_sidebar": "Contents",
   "toc_cell": false,
   "toc_position": {},
   "toc_section_display": true,
   "toc_window_display": true
  }
 },
 "nbformat": 4,
 "nbformat_minor": 5
}
